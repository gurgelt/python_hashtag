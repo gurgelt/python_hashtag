{
 "cells": [
  {
   "cell_type": "markdown",
   "metadata": {},
   "source": [
    "## Exercício\n",
    "\n",
    "Você é um gerente de vendas e tem os dados de vendas de três produtos diferentes (Produto A, Produto B, Produto C) para os últimos 5 dias em um array 2D NumPy. Cada linha do array representa um produto e cada coluna representa um dia. Seu trabalho é calcular as vendas totais para cada produto e para cada dia.\n",
    "\n",
    "Use o seguinte array para sua análise:\n",
    "\n",
    "```python\n",
    "vendas = np.array([[50, 60, 70, 65, 80],\n",
    "                   [85, 90, 78, 92, 88],\n",
    "                   [72, 75, 68, 77, 76]])\n",
    "```\n",
    "\n",
    "**Solução:**\n"
   ]
  },
  {
   "cell_type": "code",
   "execution_count": 18,
   "metadata": {
    "ExecuteTime": {
     "end_time": "2023-07-03T12:12:12.700234800Z",
     "start_time": "2023-07-03T12:12:12.677347900Z"
    },
    "collapsed": false,
    "jupyter": {
     "outputs_hidden": false
    }
   },
   "outputs": [],
   "source": [
    "import numpy as np\n",
    "\n",
    "vendas = np.array([[50, 60, 70, 65, 80],\n",
    "                   [85, 90, 78, 92, 88],\n",
    "                   [72, 75, 68, 77, 76]])"
   ]
  },
  {
   "cell_type": "code",
   "execution_count": 9,
   "metadata": {},
   "outputs": [
    {
     "name": "stdout",
     "output_type": "stream",
     "text": [
      "Vendas totais do produto A: 325\n",
      "Vendas totais do produto B: 433\n",
      "Vendas totais do produto C: 368\n"
     ]
    }
   ],
   "source": [
    "vendas = vendas.sum(axis=1) # calcular vendas totais ou soma de cada produto nos dias\n",
    "\n",
    "print(f\"Vendas totais do produto A: {vendas[0]}\")\n",
    "print(f\"Vendas totais do produto B: {vendas[1]}\")\n",
    "print(f\"Vendas totais do produto C: {vendas[2]}\")"
   ]
  },
  {
   "cell_type": "code",
   "execution_count": 19,
   "metadata": {},
   "outputs": [
    {
     "name": "stdout",
     "output_type": "stream",
     "text": [
      "Vendas totais para o dia 1: 207\n",
      "Vendas totais para o dia 2: 225\n",
      "Vendas totais para o dia 3: 216\n",
      "Vendas totais para o dia 4: 234\n",
      "Vendas totais para o dia 5: 244\n"
     ]
    }
   ],
   "source": [
    "vendas = vendas.sum(axis=0) # calcular vendas totais ou soma de todos os produtos em cada dia\n",
    "\n",
    "# rodar novamente a lista com os números em array para dar o resultado correto\n",
    "\n",
    "for i in range(5):\n",
    "    print(f\"Vendas totais para o dia {i+1}: {vendas[i]}\")"
   ]
  }
 ],
 "metadata": {
  "kernelspec": {
   "display_name": "Python 3 (ipykernel)",
   "language": "python",
   "name": "python3"
  },
  "language_info": {
   "codemirror_mode": {
    "name": "ipython",
    "version": 3
   },
   "file_extension": ".py",
   "mimetype": "text/x-python",
   "name": "python",
   "nbconvert_exporter": "python",
   "pygments_lexer": "ipython3",
   "version": "3.12.5"
  }
 },
 "nbformat": 4,
 "nbformat_minor": 4
}
