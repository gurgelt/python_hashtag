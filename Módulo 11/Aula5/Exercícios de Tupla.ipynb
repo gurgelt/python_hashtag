{
 "cells": [
  {
   "cell_type": "markdown",
   "metadata": {},
   "source": [
    "# Exercícios\n",
    "\n",
    "São exercícios bem parecidos com os que fizemos com listas. Mas na tupla, podemos não só trabalhar com índices, mas fazer o \"unpacking\" das tuplas, o que pode facilitar nossos códigos.\n",
    "\n",
    "## 1. Análise de Vendas\n",
    "\n",
    "Nesse exercício vamos fazer uma \"análise simples\" de atingimento de Meta.\n",
    "\n",
    "Temos uma lista com os vendedores e os valores de vendas e queremos identificar (printar) quais os vendedores que bateram a meta e qual foi o valor que eles venderam."
   ]
  },
  {
   "cell_type": "code",
   "execution_count": 6,
   "metadata": {},
   "outputs": [
    {
     "name": "stdout",
     "output_type": "stream",
     "text": [
      "O vendedor foi João com 15000 de vendas\n",
      "O vendedor foi Julia com 27000 de vendas\n",
      "O vendedor foi Ana com 10300 de vendas\n"
     ]
    }
   ],
   "source": [
    "meta = 10000\n",
    "vendas = [\n",
    "    ('João', 15000),\n",
    "    ('Julia', 27000),\n",
    "    ('Marcus', 9900),\n",
    "    ('Maria', 3750),\n",
    "    ('Ana', 10300),\n",
    "    ('Alon', 7870),\n",
    "]\n",
    "\n",
    "for item in vendas:\n",
    "    nome, valor = item\n",
    "    if valor >= 10000:\n",
    "        print(f'O vendedor foi {nome} com {valor} de vendas')"
   ]
  },
  {
   "cell_type": "markdown",
   "metadata": {},
   "source": [
    "## 2. Comparação com Ano Anterior\n",
    "\n",
    "Digamos que você está analisando as vendas de produtos de um ecommerce e quer identificar quais produtos tiveram no ano de 2020 mais vendas do que no ano de 2019, para reportar isso para a diretoria.\n",
    "\n",
    "Sua resposta pode ser um print de cada produto, qual foi a venda de 2019, a venda de 2020 e o % de crescimento de 2020 para 2019.\n",
    "\n",
    "Lembrando, para calcular o % de crescimento de um produto de um ano para o outro, podemos fazer: (vendas_produto2020/vendas_produto2019 - 1)\n",
    "\n",
    "A lógica da tupla é: (produto, vendas2019, vendas2020)"
   ]
  },
  {
   "cell_type": "code",
   "execution_count": 14,
   "metadata": {},
   "outputs": [
    {
     "name": "stdout",
     "output_type": "stream",
     "text": [
      "O produto é iphone, a venda de 2019 foi 558147, a venda de 2020 foi 951642 e o crescimento de 2020 para 2019 foi de 70.5%\n",
      "O produto é tv, a venda de 2019 foi 405252, a venda de 2020 foi 787604 e o crescimento de 2020 para 2019 foi de 94.3%\n",
      "O produto é máquina de café, a venda de 2019 foi 718654, a venda de 2020 foi 867660 e o crescimento de 2020 para 2019 foi de 20.7%\n",
      "O produto é notebook dell, a venda de 2019 foi 422760, a venda de 2020 foi 694913 e o crescimento de 2020 para 2019 foi de 64.4%\n",
      "O produto é notebook hp, a venda de 2019 foi 154753, a venda de 2020 foi 539704 e o crescimento de 2020 para 2019 foi de 248.8%\n",
      "O produto é microsoft surface, a venda de 2019 foi 438508, a venda de 2020 foi 667179 e o crescimento de 2020 para 2019 foi de 52.1%\n",
      "O produto é webcam, a venda de 2019 foi 237467, a venda de 2020 foi 295633 e o crescimento de 2020 para 2019 foi de 24.5%\n",
      "O produto é caixa de som, a venda de 2019 foi 489705, a venda de 2020 foi 725316 e o crescimento de 2020 para 2019 foi de 48.1%\n",
      "O produto é microfone, a venda de 2019 foi 328311, a venda de 2020 foi 644622 e o crescimento de 2020 para 2019 foi de 96.3%\n",
      "O produto é câmera canon, a venda de 2019 foi 591120, a venda de 2020 foi 994303 e o crescimento de 2020 para 2019 foi de 68.2%\n"
     ]
    }
   ],
   "source": [
    "vendas_produtos = [('iphone', 558147, 951642), ('galaxy', 712350, 244295), ('ipad', 573823, 26964), ('tv', 405252, 787604), ('máquina de café', 718654, 867660), ('kindle', 531580, 78830), ('geladeira', 973139, 710331), ('adega', 892292, 646016), ('notebook dell', 422760, 694913), ('notebook hp', 154753, 539704), ('notebook asus', 887061, 324831), ('microsoft surface', 438508, 667179), ('webcam', 237467, 295633), ('caixa de som', 489705, 725316), ('microfone', 328311, 644622), ('câmera canon', 591120, 994303)]\n",
    "\n",
    "for produto, vendas2019, vendas2020 in vendas_produtos:\n",
    "    if vendas2020 > vendas2019:\n",
    "        crescimento = vendas2020 / vendas2019 - 1\n",
    "        print('O produto é {}, a venda de 2019 foi {}, a venda de 2020 foi {} e o crescimento de 2020 para 2019 foi de {:.1%}'.format(produto, vendas2019, vendas2020, crescimento))\n",
    "    "
   ]
  }
 ],
 "metadata": {
  "kernelspec": {
   "display_name": "Python 3",
   "language": "python",
   "name": "python3"
  },
  "language_info": {
   "codemirror_mode": {
    "name": "ipython",
    "version": 3
   },
   "file_extension": ".py",
   "mimetype": "text/x-python",
   "name": "python",
   "nbconvert_exporter": "python",
   "pygments_lexer": "ipython3",
   "version": "3.12.3"
  }
 },
 "nbformat": 4,
 "nbformat_minor": 4
}
