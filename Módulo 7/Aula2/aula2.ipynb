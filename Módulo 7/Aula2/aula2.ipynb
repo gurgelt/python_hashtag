{
 "cells": [
  {
   "cell_type": "markdown",
   "metadata": {},
   "source": [
    "0 1 2 3 4 5 6 7 8 9 10 11 12 13\n",
    "l i r a @ g m a i l .  c  o  m\n",
    "\n",
    "Pegar um item de uma string: texto [indice]\n",
    "Pegar o tamanho de uma string: len(texto)"
   ]
  },
  {
   "cell_type": "code",
   "execution_count": 4,
   "metadata": {},
   "outputs": [
    {
     "name": "stdout",
     "output_type": "stream",
     "text": [
      "14\n",
      "9\n",
      "@\n",
      "ã\n"
     ]
    }
   ],
   "source": [
    "email = 'lira@gmail.com'\n",
    "nome = 'João Lira'\n",
    "\n",
    "print(len(email)) # pegar o tamanho da string\n",
    "print(len(nome)) # pegar o tamanho da string\n",
    "\n",
    "print(email[4]) # pegar um item de uma string\n",
    "print(nome[2]) # pegar um item de uma string"
   ]
  }
 ],
 "metadata": {
  "kernelspec": {
   "display_name": "Python 3",
   "language": "python",
   "name": "python3"
  },
  "language_info": {
   "codemirror_mode": {
    "name": "ipython",
    "version": 3
   },
   "file_extension": ".py",
   "mimetype": "text/x-python",
   "name": "python",
   "nbconvert_exporter": "python",
   "pygments_lexer": "ipython3",
   "version": "3.12.3"
  }
 },
 "nbformat": 4,
 "nbformat_minor": 2
}
