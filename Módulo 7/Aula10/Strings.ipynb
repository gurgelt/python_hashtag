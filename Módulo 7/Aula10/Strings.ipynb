{
 "cells": [
  {
   "cell_type": "markdown",
   "id": "2b04bbea",
   "metadata": {},
   "source": [
    "# Strings\n",
    "\n",
    "<span style=\"color: red;\"><b>Todos os exercícios são feitos partindo-se do pressuposto de que todas as entradas são dadas de forma correta. Casos limite não mencionados no enunciado não são abordados porque não fazem parte do exercício.</b></span>"
   ]
  },
  {
   "cell_type": "markdown",
   "id": "5b1f33b9",
   "metadata": {},
   "source": [
    "#### 1. Tamanho de strings. Faça um programa que leia 2 strings e informe o conteúdo delas seguido do seu comprimento. Informe também se as duas strings possuem o mesmo comprimento e são iguais ou diferentes no conteúdo.\n",
    "<pre>\n",
    "Compara duas strings\n",
    "String 1: Brasil Hexa 2006\n",
    "String 2: Brasil! Hexa 2006!\n",
    "Tamanho de \"Brasil Hexa 2006\": 16 caracteres\n",
    "Tamanho de \"Brasil! Hexa 2006!\": 18 caracteres\n",
    "As duas strings são de tamanhos diferentes.\n",
    "As duas strings possuem conteúdo diferente.\n",
    "</pre>"
   ]
  },
  {
   "cell_type": "code",
   "execution_count": 7,
   "id": "c492b657",
   "metadata": {},
   "outputs": [
    {
     "name": "stdout",
     "output_type": "stream",
     "text": [
      "A primeira string é: Paulo. Com valor de:  5\n",
      "A segunda string é: Vivian. Com valor de:  6\n",
      "As duas strings tem o tamanho diferente\n"
     ]
    }
   ],
   "source": [
    "st1 = input(\"Digite a primeira string: \")\n",
    "st2 = input(\"Digite a segunda string: \")\n",
    "\n",
    "print(\"A primeira string é: {}. Com valor de: \".format(st1), len(st1))\n",
    "print(\"A segunda string é: {}. Com valor de: \".format(st2), len(st2))\n",
    "\n",
    "if len(st1) == len(st2):\n",
    "    print(\"As duas strings tem o mesmo tamanho.\")\n",
    "else:\n",
    "    print(\"As duas strings tem o tamanho diferente\")"
   ]
  },
  {
   "cell_type": "markdown",
   "id": "c3068a53",
   "metadata": {},
   "source": [
    "#### 2. Valida e corrige número de telefone. Faça um programa que leia um número de telefone, e corrija o número no caso deste conter somente 7 dígitos, acrescentando o '3' na frente. O usuário pode informar o número com ou sem o traço separador.\n",
    "<pre>\n",
    "Valida e corrige número de telefone\n",
    "Telefone: 461-0133\n",
    "Telefone possui 7 dígitos. Vou acrescentar o digito três na frente.\n",
    "Telefone corrigido sem formatação: 34610133\n",
    "Telefone corrigido com formatação: 3461-0133\n",
    "</pre>"
   ]
  },
  {
   "cell_type": "code",
   "execution_count": 11,
   "id": "0308566d",
   "metadata": {},
   "outputs": [
    {
     "name": "stdout",
     "output_type": "stream",
     "text": [
      "Digite novamente, o telefone não tem 7 dígitos.\n"
     ]
    }
   ],
   "source": [
    "numero_telefone = input(\"Digite um número de telefone: \")\n",
    "\n",
    "numero_telefone.replace('-', '')\n",
    "if len(numero_telefone) == 7:\n",
    "    print(\"Telefone possui 7 dígitos. Vou acrescentar o dígito três na frente\")\n",
    "    numero_telefone = '3' + numero_telefone\n",
    "    print(\"Telefone corrigido sem formatação: {}\".format(numero_telefone))\n",
    "    print(f'Telefone corrigido com formatação: {numero_telefone[:4]}-{numero_telefone[4:]}')\n",
    "else: \n",
    "    print(\"Digite novamente, o telefone não tem 7 dígitos.\")"
   ]
  }
 ],
 "metadata": {
  "kernelspec": {
   "display_name": "Python 3 (ipykernel)",
   "language": "python",
   "name": "python3"
  },
  "language_info": {
   "codemirror_mode": {
    "name": "ipython",
    "version": 3
   },
   "file_extension": ".py",
   "mimetype": "text/x-python",
   "name": "python",
   "nbconvert_exporter": "python",
   "pygments_lexer": "ipython3",
   "version": "3.12.3"
  }
 },
 "nbformat": 4,
 "nbformat_minor": 5
}
