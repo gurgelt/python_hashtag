{
 "cells": [
  {
   "cell_type": "markdown",
   "metadata": {},
   "source": [
    "### Exercício 1\n",
    "### Crie um sistema de cadastro de produtos em uma lista de produtos\n",
    "Seu sistema deve:\n",
    "- Pegar o usuário qual produto vai ser cadastrado por meio de um input\n",
    "- Garantir que se o usuário escrever com letra maiúscula ou minúscula, o produto continua sendo o mesmo produto\n",
    "- Se o usuário inserir um produto que já existe na lista, o programa deve printar a mensagem \"Produto já existente, tente novamente\"\n",
    "- Se o usuário inserir um produto que não existe na lista, o programa deve inserir na lista, printar a mensagem Produto X cadastrado com sucesso e em seguida printar a lista completa"
   ]
  },
  {
   "cell_type": "code",
   "execution_count": 16,
   "metadata": {},
   "outputs": [
    {
     "name": "stdout",
     "output_type": "stream",
     "text": [
      "Produto já existente, tente novamente.\n"
     ]
    }
   ],
   "source": [
    "produtos = [\"celular\", \"camera\", \"fone de ouvido\", \"monitor\"]\n",
    "\n",
    "produto_cadastrado = input('Digite o nome de um produto').lower()\n",
    "\n",
    "if produto_cadastrado in produtos:\n",
    "    print('Produto já existente, tente novamente.')\n",
    "else:\n",
    "    produtos.append(produto_cadastrado)\n",
    "    print('Produto {} cadastrado com sucesso.'.format(produto_cadastrado))\n",
    "    print(produtos)\n",
    "    \n",
    "# Finalizado"
   ]
  },
  {
   "cell_type": "markdown",
   "metadata": {},
   "source": [
    "### Exercício 2\n",
    "#### Crie um sistema de consulta de preços\n",
    "Seu sistema deve:\n",
    "- Pedir para o usuário o nome de um produto\n",
    "- Caso o produto exista na lista de produtos, o programa deve retornar o preço do produto como resposta\n",
    "       - Ex: O produto celular custa R$1500\n",
    "- Caso o produto não exista na lista de produtos, o programa deve printar uma mensagem para o usuário tentar novamente\n"
   ]
  },
  {
   "cell_type": "code",
   "execution_count": 27,
   "metadata": {},
   "outputs": [
    {
     "name": "stdout",
     "output_type": "stream",
     "text": [
      "Produto não existe na lista de produtos, tente novamente\n"
     ]
    }
   ],
   "source": [
    "produtos = [\"celular\", \"camera\", \"fone de ouvido\", \"monitor\"]\n",
    "precos = [1500, 1000, 800, 2000]\n",
    "\n",
    "nome_produto = input('Digite o nome de um produto')\n",
    "\n",
    "if nome_produto in produtos:\n",
    "    i_produto = produtos.index(nome_produto)\n",
    "    valor_produto = precos[i_produto]\n",
    "    print('O produto {} custa R${:,}'.format(nome_produto, valor_produto))\n",
    "else:\n",
    "    print('Produto não existe na lista de produtos, tente novamente')\n",
    "    \n",
    "# Finalizado"
   ]
  },
  {
   "cell_type": "markdown",
   "metadata": {},
   "source": [
    "### Exercício 3\n",
    "#### Crie um sistema de consulta de bônus dos funcionários\n",
    "Seu sistema deve:\n",
    "- Pegar o valor de vendas do funcinoário por meio de um input\n",
    "- Calcular o bônus do funcionário de acordo com a seguinte regra:\n",
    "      - Se o funcionário vendeu mais de 1000 unidades, ele ganha R$2 de bonus para cada unidade vendida\n",
    "      - Se o funcionário vendeu mais de 5000 unidades, ele ganha R$2 de bônus para cada unidade + um valor fixo de R$1000\n",
    "      - Se o funcionário vendeu menos de 1000 unidades, ele não ganha bônus\n",
    "- Printar no final o valor do bônus do funcionário\n"
   ]
  },
  {
   "cell_type": "code",
   "execution_count": 48,
   "metadata": {},
   "outputs": [
    {
     "name": "stdout",
     "output_type": "stream",
     "text": [
      "O seu valor de bônus é de R$154,000\n"
     ]
    }
   ],
   "source": [
    "vendas_funcionario = int(input('Digite o valor de vendas: '))\n",
    "\n",
    "if vendas_funcionario > 1000:\n",
    "    bonus = vendas_funcionario * 2\n",
    "elif vendas_funcionario > 5000:\n",
    "    bonus = vendas_funcionario * 2 + 1000\n",
    "else:\n",
    "    bonus = 0\n",
    "    \n",
    "print('O seu valor de bônus é de R${:,}'.format(bonus))\n",
    "\n",
    "# Finalizado"
   ]
  },
  {
   "cell_type": "markdown",
   "metadata": {},
   "source": [
    "### Exercício 4\n",
    "Crie um programa que consiga descobrir qual dos vendedores vendeu mais\n",
    "<br>As vendas dos vendedores são listas com a quantidade vendida por cada vendedor"
   ]
  },
  {
   "cell_type": "code",
   "execution_count": 61,
   "metadata": {},
   "outputs": [
    {
     "name": "stdout",
     "output_type": "stream",
     "text": [
      "O valor de vendas do Paulo é de: R$1,599\n",
      "O valor de vendas do Cleonir é de: R$1,714\n"
     ]
    }
   ],
   "source": [
    "vendedores = ['Paulo', 'Cleonir']\n",
    "\n",
    "vendas = [\n",
    "    [10, 20, 100, 80, 90, 100, 20, 30, 44, 55, 33, 34, 100, 90, 80, 39, 87, 45, 50, 50, 50, 50, 40, 30, 3, 93, 39, 49, 88],    \n",
    "    [100, 1, 1, 4, 5, 90, 100, 20, 4, 5, 100, 100, 100, 100, 100, 93, 20, 15, 40, 90, 90, 90, 90, 90, 90, 33, 22, 44, 43, 34],\n",
    "]\n",
    "\n",
    "i_paulo = vendedores.index('Paulo') # 0\n",
    "i_cleonir = vendedores.index('Cleonir') # 1\n",
    "\n",
    "vendedor_paulo = sum(vendas[0])\n",
    "vendedor_cleonir = sum(vendas[1])\n",
    "\n",
    "\n",
    "print('O valor de vendas do {} é de: R${:,}'.format(vendedores[0], vendedor_paulo))\n",
    "print('O valor de vendas do {} é de: R${:,}'.format(vendedores[1], vendedor_cleonir))\n",
    "\n",
    "# Finalizado"
   ]
  }
 ],
 "metadata": {
  "kernelspec": {
   "display_name": "Python 3",
   "language": "python",
   "name": "python3"
  },
  "language_info": {
   "codemirror_mode": {
    "name": "ipython",
    "version": 3
   },
   "file_extension": ".py",
   "mimetype": "text/x-python",
   "name": "python",
   "nbconvert_exporter": "python",
   "pygments_lexer": "ipython3",
   "version": "3.12.3"
  }
 },
 "nbformat": 4,
 "nbformat_minor": 2
}
