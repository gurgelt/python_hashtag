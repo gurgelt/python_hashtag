{
 "cells": [
  {
   "cell_type": "markdown",
   "metadata": {},
   "source": [
    "# Exercícios\n",
    "\n",
    "## 1. Faturamento do Melhor e do Pior Mês do Ano\n",
    "\n",
    "Qual foi o valor de vendas do melhor mês do Ano?\n",
    "E valor do pior mês do ano?"
   ]
  },
  {
   "cell_type": "code",
   "execution_count": 74,
   "metadata": {},
   "outputs": [
    {
     "name": "stdout",
     "output_type": "stream",
     "text": [
      "O maior valor é 49051\n",
      "O menor valor é 9650\n"
     ]
    }
   ],
   "source": [
    "meses = ['jan', 'fev', 'mar', 'abr', 'mai', 'jun', 'jul', 'ago', 'set', 'out', 'nov', 'dez']\n",
    "vendas_1sem = [25000, 29000, 22200, 17750, 15870, 19900]\n",
    "vendas_2sem = [19850, 20120, 17540, 15555, 49051, 9650]\n",
    "\n",
    "vendas_1sem.extend(vendas_2sem)\n",
    "\n",
    "maior_valor = max(vendas_1sem)\n",
    "menor_valor = min(vendas_1sem)\n",
    "\n",
    "print('O maior valor é {}'.format(maior_valor))\n",
    "print('O menor valor é {}'.format(menor_valor))\n"
   ]
  },
  {
   "cell_type": "markdown",
   "metadata": {},
   "source": [
    "## 2. Continuação\n",
    "\n",
    "Agora relacione as duas listas para printar 'O melhor mês do ano foi {} com {} vendas' e o mesmo para o pior mês do ano.\n",
    "\n",
    "Calcule também o faturamento total do Ano e quanto que o melhor mês representou do faturamento total.\n",
    "\n",
    "Obs: Para o faturamento total, pode usar a função sum(lista) que soma todos os itens de uma lista"
   ]
  },
  {
   "cell_type": "code",
   "execution_count": 62,
   "metadata": {},
   "outputs": [
    {
     "name": "stdout",
     "output_type": "stream",
     "text": [
      "O melhor mês do ano foi nov, com 49051 vendas\n",
      "O pior mês do ano foi dez, com 9650 vendas\n",
      "O faturamento total do ano é de R$261,486.\n",
      "E o percentual do melhor mês é de 18.8%\n"
     ]
    }
   ],
   "source": [
    "indice_maior_valor = vendas_1sem.index(maior_valor)\n",
    "indice_menor_valor = vendas_1sem.index(menor_valor)\n",
    "\n",
    "faturamento = sum(vendas_1sem)\n",
    "percentual_fat = maior_valor / faturamento\n",
    "\n",
    "print('O melhor mês do ano foi {}, com {} vendas'.format(meses[indice_maior_valor], maior_valor))\n",
    "print('O pior mês do ano foi {}, com {} vendas'.format(meses[indice_menor_valor], menor_valor))\n",
    "print('O faturamento total do ano é de R${:,}.\\nE o percentual do melhor mês é de {:.1%}'.format(faturamento, percentual_fat))"
   ]
  },
  {
   "cell_type": "markdown",
   "metadata": {},
   "source": [
    "## 3. Crie uma lista com o top 3 valores de vendas do ano (sem fazer \"no olho\")\n",
    "\n",
    "Dica: o método remove retira um item da lista."
   ]
  },
  {
   "cell_type": "code",
   "execution_count": 75,
   "metadata": {},
   "outputs": [
    {
     "name": "stdout",
     "output_type": "stream",
     "text": [
      "[25000, 29000, 22200, 17750, 15870, 19900, 19850, 20120, 17540, 15555, 49051, 9650]\n",
      "[25000, 22200, 17750, 15870, 19900, 19850, 20120, 17540, 15555, 9650]\n",
      "[49051, 29000, 25000]\n"
     ]
    }
   ],
   "source": [
    "top3 = []\n",
    "\n",
    "print(vendas_1sem)\n",
    "\n",
    "maior_valor = max(vendas_1sem)\n",
    "top3.append(maior_valor)\n",
    "vendas_1sem.remove(maior_valor)\n",
    "\n",
    "maior_valor = max(vendas_1sem)\n",
    "top3.append(maior_valor)\n",
    "vendas_1sem.remove(maior_valor)\n",
    "\n",
    "maior_valor = max(vendas_1sem)\n",
    "top3.append(maior_valor)\n",
    "\n",
    "\n",
    "print(vendas_1sem)\n",
    "print(top3)\n",
    "\n"
   ]
  }
 ],
 "metadata": {
  "kernelspec": {
   "display_name": "Python 3",
   "language": "python",
   "name": "python3"
  },
  "language_info": {
   "codemirror_mode": {
    "name": "ipython",
    "version": 3
   },
   "file_extension": ".py",
   "mimetype": "text/x-python",
   "name": "python",
   "nbconvert_exporter": "python",
   "pygments_lexer": "ipython3",
   "version": "3.12.3"
  }
 },
 "nbformat": 4,
 "nbformat_minor": 4
}
