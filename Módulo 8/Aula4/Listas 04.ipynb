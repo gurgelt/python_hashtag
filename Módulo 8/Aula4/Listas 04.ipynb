{
 "cells": [
  {
   "cell_type": "markdown",
   "metadata": {},
   "source": [
    "# Adicionar e Remover itens de uma lista\n",
    "\n",
    "Adicionar:<br>\n",
    "lista.append(item)\n",
    "\n",
    "Remover:<br>\n",
    "item_removido = lista.pop(indice)<br>\n",
    "lista.remove(item)\n",
    "\n",
    "Digamos que você está construindo o controle de produtos da Apple.<br>\n",
    "E a Apple lançou o IPhone 11 e irá tirar dos seus estoques o IPhone X"
   ]
  },
  {
   "cell_type": "code",
   "execution_count": 27,
   "metadata": {},
   "outputs": [
    {
     "name": "stdout",
     "output_type": "stream",
     "text": [
      "['apple tv', 'mac', 'iphone x', 'IPad', 'apple watch', 'mac book', 'airpods']\n",
      "['apple tv', 'mac', 'iphone x', 'IPad', 'apple watch', 'mac book', 'airpods', 'home theater', 'led inteligente']\n",
      "['apple tv', 'mac', 'iphone x', 'IPad', 'apple watch', 'mac book', 'airpods']\n",
      "['apple tv', 'mac', 'iphone x', 'IPad', 'apple watch']\n",
      "['apple tv', 'mac', 'IPad', 'apple watch']\n"
     ]
    }
   ],
   "source": [
    "produtos = ['apple tv', 'mac', 'iphone x', 'IPad', 'apple watch', 'mac book', 'airpods']\n",
    "print(produtos)\n",
    "\n",
    "# adicionar item na lista\n",
    "\n",
    "produtos.append('home theater')\n",
    "produtos.append('led inteligente')\n",
    "print(produtos)\n",
    "\n",
    "# remover item na lista\n",
    "\n",
    "# primeira forma com .remove (remove pelo nome)\n",
    "\n",
    "produtos.remove('led inteligente')\n",
    "produtos.remove('home theater')\n",
    "print(produtos)\n",
    "\n",
    "# segunda forma com .pop (remove pelo indice e consegue armazenar esse item removido)\n",
    "\n",
    "airpods_removido = produtos.pop(-1)\n",
    "macbook_removido = produtos.pop(5)\n",
    "print(produtos)\n",
    "\n",
    "produto_remover = 'iphone x'\n",
    "\n",
    "if produto_remover in produtos:\n",
    "    produtos.remove('iphone x')\n",
    "    print(produtos)\n",
    "else:\n",
    "    print('{} não existe na lista de produtos.'.format(produto_remover))"
   ]
  },
  {
   "cell_type": "markdown",
   "metadata": {},
   "source": [
    "## Existem 2 formas de tratar o erro:\n",
    "\n",
    "1. Criar um if para evitar que ele aconteça\n",
    "\n",
    "2. Esperar que ele possa acontecer e tratar caso o erro aconteça com:"
   ]
  },
  {
   "cell_type": "raw",
   "metadata": {},
   "source": [
    "try:\n",
    "    tentar fazer\n",
    "except:\n",
    "    caso dê errado"
   ]
  },
  {
   "cell_type": "code",
   "execution_count": null,
   "metadata": {},
   "outputs": [],
   "source": [
    "try:\n",
    "    produtos.remove('iphonex')\n",
    "except:\n",
    "    produtos('{} não existe na lista de produtos'.format(produto))"
   ]
  }
 ],
 "metadata": {
  "kernelspec": {
   "display_name": "Python 3",
   "language": "python",
   "name": "python3"
  },
  "language_info": {
   "codemirror_mode": {
    "name": "ipython",
    "version": 3
   },
   "file_extension": ".py",
   "mimetype": "text/x-python",
   "name": "python",
   "nbconvert_exporter": "python",
   "pygments_lexer": "ipython3",
   "version": "3.12.3"
  }
 },
 "nbformat": 4,
 "nbformat_minor": 4
}
