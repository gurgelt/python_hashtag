{
 "cells": [
  {
   "cell_type": "markdown",
   "metadata": {},
   "source": [
    "# Juntar Listas, Ordenar e Cuidados Especiais\n",
    "\n",
    "### 2 formas:\n",
    "\n",
    "- lista1.extend(lista2)\n",
    "- lista_nova = lista1 + lista2\n",
    "\n",
    "Obs: o Método .append não junta listas, mas adiciona um valor no final da lista"
   ]
  },
  {
   "cell_type": "code",
   "execution_count": 2,
   "metadata": {},
   "outputs": [
    {
     "name": "stdout",
     "output_type": "stream",
     "text": [
      "['apple tv', 'mac', 'iphone x', 'iphone 11', 'IPad', 'apple watch', 'mac book', 'airpods', 'iphone 12', 'ioculos']\n",
      "['apple tv', 'mac', 'iphone x', 'iphone 11', 'IPad', 'apple watch', 'mac book', 'airpods', 'iphone 12', 'ioculos', 'iphone 12', 'ioculos']\n"
     ]
    }
   ],
   "source": [
    "produtos = ['apple tv', 'mac', 'iphone x', 'iphone 11', 'IPad', 'apple watch', 'mac book', 'airpods']\n",
    "novos_produtos = ['iphone 12', 'ioculos']\n",
    "\n",
    "produtos.extend(novos_produtos) # adiciona a nova lista na lista original\n",
    "print(produtos)\n",
    "\n",
    "produtos2 = produtos + novos_produtos # junta as duas listas em uma nova variável\n",
    "print(produtos2)"
   ]
  },
  {
   "cell_type": "markdown",
   "metadata": {},
   "source": [
    "### Cuidado:\n",
    "\n",
    "- [1] + [2] não é a mesma coisa que 1 + 2, então cuidado sempre com o formato dos valores na hora de fazer operações."
   ]
  },
  {
   "cell_type": "code",
   "execution_count": 3,
   "metadata": {},
   "outputs": [
    {
     "name": "stdout",
     "output_type": "stream",
     "text": [
      "35000\n",
      "[15000, 20000]\n"
     ]
    }
   ],
   "source": [
    "vendas = [1000, 1500, 15000, 20000, 270, 900, 100, 1200]\n",
    "vendas_iphonex = [15000]\n",
    "vendas_iphone11 = [20000]\n",
    "\n",
    "total_iphone = vendas[2] + vendas[3] # faz a soma dos valores dos índices da lista\n",
    "\n",
    "total_iphone_vendas = vendas_iphonex + vendas_iphone11 # junta as duas listas em uma nova variável\n",
    "\n",
    "print(total_iphone)\n",
    "print(total_iphone_vendas)"
   ]
  },
  {
   "cell_type": "markdown",
   "metadata": {},
   "source": [
    "### Ordenar listas\n",
    "\n",
    "lista.sort()"
   ]
  },
  {
   "cell_type": "code",
   "execution_count": 11,
   "metadata": {},
   "outputs": [
    {
     "name": "stdout",
     "output_type": "stream",
     "text": [
      "[100, 270, 900, 1000, 1200, 1500, 15000, 20000]\n",
      "[20000, 15000, 1500, 1200, 1000, 900, 270, 100]\n",
      "['IPad', 'airpods', 'apple tv', 'apple watch', 'ioculos', 'iphone 11', 'iphone 12', 'iphone x', 'mac', 'mac book']\n",
      "['mac book', 'mac', 'iphone x', 'iphone 12', 'iphone 11', 'ioculos', 'apple watch', 'apple tv', 'airpods', 'IPad']\n"
     ]
    }
   ],
   "source": [
    "# .sort -> organiza as listas do menor para o maior, vice-versa, em ordem alfabética, etc...\n",
    "\n",
    "vendas.sort()\n",
    "print(vendas)\n",
    "\n",
    "vendas.sort(reverse=True) # .reverse=True ou .reverse=False faz o contrário do que o .sort está fazendo (Ordem Crescente / Ordem Decrescente)\n",
    "print(vendas)\n",
    "\n",
    "produtos.sort() # Ipad vem na frente por conta da letra maiúscula, Python segue modelo da tabela ASCII\n",
    "print(produtos)\n",
    "\n",
    "produtos.sort(reverse=True) # mesma coisa com o .reverse\n",
    "print(produtos)"
   ]
  }
 ],
 "metadata": {
  "kernelspec": {
   "display_name": "Python 3",
   "language": "python",
   "name": "python3"
  },
  "language_info": {
   "codemirror_mode": {
    "name": "ipython",
    "version": 3
   },
   "file_extension": ".py",
   "mimetype": "text/x-python",
   "name": "python",
   "nbconvert_exporter": "python",
   "pygments_lexer": "ipython3",
   "version": "3.12.3"
  }
 },
 "nbformat": 4,
 "nbformat_minor": 4
}
