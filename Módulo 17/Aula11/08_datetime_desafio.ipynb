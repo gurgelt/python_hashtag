{
 "cells": [
  {
   "cell_type": "markdown",
   "metadata": {},
   "source": [
    "## Calculando a idade\n",
    "\n",
    "Um usuário fornece sua data de nascimento no formato \"dd/mm/aaaa\". Crie um script Python que calcula a idade do usuário.\n"
   ]
  },
  {
   "cell_type": "code",
   "execution_count": 26,
   "metadata": {},
   "outputs": [
    {
     "name": "stdout",
     "output_type": "stream",
     "text": [
      "Sua idade é: 15 anos\n"
     ]
    }
   ],
   "source": [
    "from datetime import datetime\n",
    "\n",
    "data_nascimento = input(\"Digite a sua data de nascimento (dd/mm/aaaa):\")\n",
    "data_nascimento = datetime.strptime(data_nascimento, \"%d/%m/%Y\")\n",
    "\n",
    "data_atual = datetime.now()\n",
    "\n",
    "# Calcular a diferença da data de nascimento com a data atual pegando pelo ano \n",
    "idade = data_atual.year - data_nascimento.year\n",
    "\n",
    "# Pegar pelos meses e dias\n",
    "\n",
    "# Mês e dia atual\n",
    "mes_atual = data_atual.month \n",
    "dia_atual = data_atual.day\n",
    "\n",
    "# Mês e dia de nascimento\n",
    "mes_nascimento = data_nascimento.month \n",
    "dia_nascimento = data_nascimento.day\n",
    "\n",
    "# Condição caso \n",
    "if mes_nascimento > mes_atual:\n",
    "    idade -= 1\n",
    "elif mes_nascimento == mes_atual and dia_nascimento > dia_atual:\n",
    "    idade -= 1\n",
    "\n",
    "print(f\"Sua idade é: {idade} anos\")"
   ]
  }
 ],
 "metadata": {
  "kernelspec": {
   "display_name": "Python 3 (ipykernel)",
   "language": "python",
   "name": "python3"
  },
  "language_info": {
   "codemirror_mode": {
    "name": "ipython",
    "version": 3
   },
   "file_extension": ".py",
   "mimetype": "text/x-python",
   "name": "python",
   "nbconvert_exporter": "python",
   "pygments_lexer": "ipython3",
   "version": "3.12.5"
  }
 },
 "nbformat": 4,
 "nbformat_minor": 4
}
