{
 "cells": [
  {
   "cell_type": "markdown",
   "metadata": {},
   "source": [
    "## Oferecendo desconto para cliente com base na última compra\n",
    "\n",
    "Suponha que você está trabalhando para uma empresa que deseja rastrear a atividade do cliente. Uma métrica que eles estão interessados é o tempo que passou desde a última transação do cliente. Se for muito tempo, eles podem oferecer um desconto para o cliente. Crie um script Python que mostra quanto tempo se passou desde a última compra do cliente. Se faz mais de 30 dias, mostre uma mensagem oferecendo um desconto para o cliente."
   ]
  },
  {
   "cell_type": "code",
   "execution_count": 2,
   "metadata": {},
   "outputs": [
    {
     "name": "stdout",
     "output_type": "stream",
     "text": [
      "Você obteve um desconto\n"
     ]
    }
   ],
   "source": [
    "from datetime import datetime\n",
    "\n",
    "ultima_transacao = datetime(2024, 5, 7)\n",
    "agora = datetime.now()\n",
    "\n",
    "diferenca = agora - ultima_transacao\n",
    "\n",
    "if diferenca.days > 30:\n",
    "    print(\"Você obteve um desconto\")\n",
    "else:\n",
    "    print(\"Você não obteve desconto\")"
   ]
  },
  {
   "cell_type": "markdown",
   "metadata": {},
   "source": [
    "## Data e hora em diferentes fusos horários\n",
    "\n",
    "Uma empresa tem escritórios em São Paulo, Nova York e Tóquio. Crie um script Python que mostra a data e hora atuais nesses três fusos horários. Exiba, também, se estes escritórios estão abertos ou fechados (9h às 17h).\n"
   ]
  },
  {
   "cell_type": "code",
   "execution_count": 15,
   "metadata": {},
   "outputs": [
    {
     "name": "stdout",
     "output_type": "stream",
     "text": [
      "2024-08-09 11:41:07.158271-03:00\n",
      "2024-08-09 10:41:07.158271-04:00\n",
      "2024-08-09 23:41:07.158271+09:00\n"
     ]
    }
   ],
   "source": [
    "from datetime import datetime\n",
    "from zoneinfo import ZoneInfo\n",
    "\n",
    "data_atual = datetime.now()\n",
    "\n",
    "fuso_sp = ZoneInfo('America/Sao_Paulo')\n",
    "data_hora_sp = data_atual.astimezone(fuso_sp)\n",
    "\n",
    "fuso_ny = ZoneInfo('America/New_York')\n",
    "data_hora_ny = data_atual.astimezone(fuso_ny)\n",
    "\n",
    "fuso_tk = ZoneInfo('Asia/Tokyo')\n",
    "data_hora_tk = data_atual.astimezone(fuso_tk)\n",
    "\n",
    "print(data_hora_sp)\n",
    "print(data_hora_ny)\n",
    "print(data_hora_tk)"
   ]
  },
  {
   "cell_type": "code",
   "execution_count": 16,
   "metadata": {},
   "outputs": [
    {
     "name": "stdout",
     "output_type": "stream",
     "text": [
      "O escritório de SP está aberto\n",
      "O escritório de NY está aberto\n",
      "O escritório de TK está fechado\n"
     ]
    }
   ],
   "source": [
    "def verifica_horario(data_hora):\n",
    "    if 9 <= data_hora.hour < 17:\n",
    "        return \"aberto\"\n",
    "    else:\n",
    "        return \"fechado\"\n",
    "    \n",
    "print(f\"O escritório de SP está {verifica_horario(data_hora_sp)}\")\n",
    "print(f\"O escritório de NY está {verifica_horario(data_hora_ny)}\")\n",
    "print(f\"O escritório de TK está {verifica_horario(data_hora_tk)}\")"
   ]
  }
 ],
 "metadata": {
  "kernelspec": {
   "display_name": "Python 3 (ipykernel)",
   "language": "python",
   "name": "python3"
  },
  "language_info": {
   "codemirror_mode": {
    "name": "ipython",
    "version": 3
   },
   "file_extension": ".py",
   "mimetype": "text/x-python",
   "name": "python",
   "nbconvert_exporter": "python",
   "pygments_lexer": "ipython3",
   "version": "3.12.5"
  }
 },
 "nbformat": 4,
 "nbformat_minor": 4
}
